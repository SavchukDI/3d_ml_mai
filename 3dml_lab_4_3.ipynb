{
  "nbformat": 4,
  "nbformat_minor": 0,
  "metadata": {
    "colab": {
      "name": "3dml_lab_4_3.ipynb",
      "provenance": [],
      "collapsed_sections": [],
      "authorship_tag": "ABX9TyMBNhpbOi/pnH5bAI20CP3G",
      "include_colab_link": true
    },
    "kernelspec": {
      "name": "python3",
      "display_name": "Python 3"
    },
    "language_info": {
      "name": "python"
    },
    "accelerator": "GPU"
  },
  "cells": [
    {
      "cell_type": "markdown",
      "metadata": {
        "id": "view-in-github",
        "colab_type": "text"
      },
      "source": [
        "<a href=\"https://colab.research.google.com/github/SavchukDI/3d_ml_mai/blob/main/3dml_lab_4_3.ipynb\" target=\"_parent\"><img src=\"https://colab.research.google.com/assets/colab-badge.svg\" alt=\"Open In Colab\"/></a>"
      ]
    },
    {
      "cell_type": "markdown",
      "source": [
        "FLAME"
      ],
      "metadata": {
        "id": "hGDEzf24uqYR"
      }
    },
    {
      "cell_type": "code",
      "source": [
        "!git clone https://github.com/soubhiksanyal/FLAME_PyTorch"
      ],
      "metadata": {
        "colab": {
          "base_uri": "https://localhost:8080/"
        },
        "id": "odFakzdgwP_P",
        "outputId": "f902cd87-e898-4bfb-c9d6-e7b5a36e3b73"
      },
      "execution_count": 1,
      "outputs": [
        {
          "output_type": "stream",
          "name": "stdout",
          "text": [
            "Cloning into 'FLAME_PyTorch'...\n",
            "remote: Enumerating objects: 51, done.\u001b[K\n",
            "remote: Counting objects: 100% (12/12), done.\u001b[K\n",
            "remote: Compressing objects: 100% (12/12), done.\u001b[K\n",
            "remote: Total 51 (delta 6), reused 1 (delta 0), pack-reused 39\u001b[K\n",
            "Unpacking objects: 100% (51/51), done.\n"
          ]
        }
      ]
    },
    {
      "cell_type": "code",
      "source": [
        "!cd /content/FLAME_PyTorch/ && pip install -r requirements.txt"
      ],
      "metadata": {
        "colab": {
          "base_uri": "https://localhost:8080/"
        },
        "id": "c1e7Yh91wV-K",
        "outputId": "cbabb408-0c61-46ad-cf6e-15ef9e14a477"
      },
      "execution_count": 5,
      "outputs": [
        {
          "output_type": "stream",
          "name": "stdout",
          "text": [
            "Collecting numpy==1.18.1\n",
            "  Using cached numpy-1.18.1-cp37-cp37m-manylinux1_x86_64.whl (20.1 MB)\n",
            "Requirement already satisfied: torch in /usr/local/lib/python3.7/dist-packages (from -r requirements.txt (line 2)) (1.10.0+cu111)\n",
            "Requirement already satisfied: torchvision in /usr/local/lib/python3.7/dist-packages (from -r requirements.txt (line 3)) (0.11.1+cu111)\n",
            "Collecting chumpy\n",
            "  Downloading chumpy-0.70.tar.gz (50 kB)\n",
            "\u001b[K     |████████████████████████████████| 50 kB 2.8 MB/s \n",
            "\u001b[?25hCollecting pyrender==0.1.39\n",
            "  Downloading pyrender-0.1.39-py3-none-any.whl (1.2 MB)\n",
            "\u001b[K     |████████████████████████████████| 1.2 MB 10.5 MB/s \n",
            "\u001b[?25hCollecting trimesh==3.6.18\n",
            "  Downloading trimesh-3.6.18-py3-none-any.whl (456 kB)\n",
            "\u001b[K     |████████████████████████████████| 456 kB 43.4 MB/s \n",
            "\u001b[?25hCollecting smplx\n",
            "  Downloading smplx-0.1.28-py3-none-any.whl (29 kB)\n",
            "\u001b[31mERROR: Could not find a version that satisfies the requirement pickle (from versions: none)\u001b[0m\n",
            "\u001b[31mERROR: No matching distribution found for pickle\u001b[0m\n"
          ]
        }
      ]
    },
    {
      "cell_type": "code",
      "source": [
        "!pip install smplx\n",
        "!pip install pyrender"
      ],
      "metadata": {
        "colab": {
          "base_uri": "https://localhost:8080/"
        },
        "id": "v0xok4pg0JT5",
        "outputId": "251b7961-cd85-4c0f-b95c-8eb0687f0f83"
      },
      "execution_count": 12,
      "outputs": [
        {
          "output_type": "stream",
          "name": "stdout",
          "text": [
            "Requirement already satisfied: smplx in /usr/local/lib/python3.7/dist-packages (0.1.28)\n",
            "Requirement already satisfied: numpy>=1.16.2 in /usr/local/lib/python3.7/dist-packages (from smplx) (1.19.5)\n",
            "Requirement already satisfied: torch>=1.0.1.post2 in /usr/local/lib/python3.7/dist-packages (from smplx) (1.10.0+cu111)\n",
            "Requirement already satisfied: typing-extensions in /usr/local/lib/python3.7/dist-packages (from torch>=1.0.1.post2->smplx) (3.10.0.2)\n",
            "Collecting pyrender\n",
            "  Downloading pyrender-0.1.45-py3-none-any.whl (1.2 MB)\n",
            "\u001b[K     |████████████████████████████████| 1.2 MB 5.3 MB/s \n",
            "\u001b[?25hCollecting trimesh\n",
            "  Downloading trimesh-3.9.36-py3-none-any.whl (639 kB)\n",
            "\u001b[K     |████████████████████████████████| 639 kB 44.8 MB/s \n",
            "\u001b[?25hRequirement already satisfied: pyglet>=1.4.10 in /usr/local/lib/python3.7/dist-packages (from pyrender) (1.5.0)\n",
            "Requirement already satisfied: scipy in /usr/local/lib/python3.7/dist-packages (from pyrender) (1.4.1)\n",
            "Collecting freetype-py\n",
            "  Downloading freetype_py-2.2.0-py3-none-manylinux1_x86_64.whl (890 kB)\n",
            "\u001b[K     |████████████████████████████████| 890 kB 40.6 MB/s \n",
            "\u001b[?25hRequirement already satisfied: networkx in /usr/local/lib/python3.7/dist-packages (from pyrender) (2.6.3)\n",
            "Collecting PyOpenGL==3.1.0\n",
            "  Downloading PyOpenGL-3.1.0.zip (2.2 MB)\n",
            "\u001b[K     |████████████████████████████████| 2.2 MB 38.3 MB/s \n",
            "\u001b[?25hRequirement already satisfied: six in /usr/local/lib/python3.7/dist-packages (from pyrender) (1.15.0)\n",
            "Requirement already satisfied: numpy in /usr/local/lib/python3.7/dist-packages (from pyrender) (1.19.5)\n",
            "Requirement already satisfied: Pillow in /usr/local/lib/python3.7/dist-packages (from pyrender) (7.1.2)\n",
            "Requirement already satisfied: imageio in /usr/local/lib/python3.7/dist-packages (from pyrender) (2.4.1)\n",
            "Requirement already satisfied: future in /usr/local/lib/python3.7/dist-packages (from pyglet>=1.4.10->pyrender) (0.16.0)\n",
            "Requirement already satisfied: setuptools in /usr/local/lib/python3.7/dist-packages (from trimesh->pyrender) (57.4.0)\n",
            "Building wheels for collected packages: PyOpenGL\n",
            "  Building wheel for PyOpenGL (setup.py) ... \u001b[?25l\u001b[?25hdone\n",
            "  Created wheel for PyOpenGL: filename=PyOpenGL-3.1.0-py3-none-any.whl size=1745210 sha256=cd023bb71fb461770c07f5d14a1e4e7a9fb1ee8103fb562052723f39c52bfc28\n",
            "  Stored in directory: /root/.cache/pip/wheels/c6/83/cb/af51a0c06c33d08537b941bbfc87469e8a3c68d05f77a6a212\n",
            "Successfully built PyOpenGL\n",
            "Installing collected packages: trimesh, PyOpenGL, freetype-py, pyrender\n",
            "  Attempting uninstall: PyOpenGL\n",
            "    Found existing installation: PyOpenGL 3.1.5\n",
            "    Uninstalling PyOpenGL-3.1.5:\n",
            "      Successfully uninstalled PyOpenGL-3.1.5\n",
            "Successfully installed PyOpenGL-3.1.0 freetype-py-2.2.0 pyrender-0.1.45 trimesh-3.9.36\n"
          ]
        }
      ]
    },
    {
      "cell_type": "code",
      "source": [
        "!pip install chumpy"
      ],
      "metadata": {
        "colab": {
          "base_uri": "https://localhost:8080/"
        },
        "id": "GbA7A_kz07XU",
        "outputId": "face4b1c-c767-4234-c1b2-6dd98fa12791"
      },
      "execution_count": 16,
      "outputs": [
        {
          "output_type": "stream",
          "name": "stdout",
          "text": [
            "Collecting chumpy\n",
            "  Using cached chumpy-0.70.tar.gz (50 kB)\n",
            "Requirement already satisfied: scipy>=0.13.0 in /usr/local/lib/python3.7/dist-packages (from chumpy) (1.4.1)\n",
            "Requirement already satisfied: six>=1.11.0 in /usr/local/lib/python3.7/dist-packages (from chumpy) (1.15.0)\n",
            "Requirement already satisfied: numpy>=1.13.3 in /usr/local/lib/python3.7/dist-packages (from scipy>=0.13.0->chumpy) (1.19.5)\n",
            "Building wheels for collected packages: chumpy\n",
            "  Building wheel for chumpy (setup.py) ... \u001b[?25l\u001b[?25hdone\n",
            "  Created wheel for chumpy: filename=chumpy-0.70-py3-none-any.whl size=58285 sha256=6adc90f58e466bf38a2243ae0b09262aa9146837153cd0ac72e3925dff5400eb\n",
            "  Stored in directory: /root/.cache/pip/wheels/59/68/de/5e0c5d77e573e8c150e69e07a25035e6b6a04952d6e1814dbc\n",
            "Successfully built chumpy\n",
            "Installing collected packages: chumpy\n",
            "Successfully installed chumpy-0.70\n"
          ]
        }
      ]
    },
    {
      "cell_type": "code",
      "source": [
        "!cd /content/FLAME_PyTorch/ && mkdir model"
      ],
      "metadata": {
        "id": "G11GU1VOwqov"
      },
      "execution_count": 6,
      "outputs": []
    },
    {
      "cell_type": "code",
      "source": [
        "!wget -nc 'https://docs.google.com/uc?export=download&id=1AC-ZV1v1vOESRq9zmoOv_-3sAJeRvrG4' -O 'male_model.pkl'\n",
        "!wget -nc 'https://docs.google.com/uc?export=download&id=1qvrXvjCyp5zgFiVlO3LUlKdsEd2MgiUZ' -O 'female_model.pkl'\n",
        "!wget -nc 'https://docs.google.com/uc?export=download&id=1eOg9JvcKyGwAtVtXI9JPavpIMoH8aOCn' -O 'generic_model.pkl'\n",
        "!mv ./male_model.pkl ./FLAME_PyTorch/model\n",
        "!mv ./female_model.pkl ./FLAME_PyTorch/model\n",
        "!mv ./generic_model.pkl ./FLAME_PyTorch/model"
      ],
      "metadata": {
        "colab": {
          "base_uri": "https://localhost:8080/"
        },
        "id": "ng4l6EgPypF7",
        "outputId": "d027fc7b-f64b-4608-9da2-cfffb57186a3"
      },
      "execution_count": 14,
      "outputs": [
        {
          "output_type": "stream",
          "name": "stdout",
          "text": [
            "--2021-12-24 23:42:51--  https://docs.google.com/uc?export=download&id=1AC-ZV1v1vOESRq9zmoOv_-3sAJeRvrG4\n",
            "Resolving docs.google.com (docs.google.com)... 209.85.147.101, 209.85.147.100, 209.85.147.138, ...\n",
            "Connecting to docs.google.com (docs.google.com)|209.85.147.101|:443... connected.\n",
            "HTTP request sent, awaiting response... 302 Moved Temporarily\n",
            "Location: https://doc-0s-98-docs.googleusercontent.com/docs/securesc/ha0ro937gcuc7l7deffksulhg5h7mbp1/fbadr7ror8r3a7c12dh67as09jdecg8h/1640389350000/07264610302122334822/*/1AC-ZV1v1vOESRq9zmoOv_-3sAJeRvrG4?e=download [following]\n",
            "Warning: wildcards not supported in HTTP.\n",
            "--2021-12-24 23:42:52--  https://doc-0s-98-docs.googleusercontent.com/docs/securesc/ha0ro937gcuc7l7deffksulhg5h7mbp1/fbadr7ror8r3a7c12dh67as09jdecg8h/1640389350000/07264610302122334822/*/1AC-ZV1v1vOESRq9zmoOv_-3sAJeRvrG4?e=download\n",
            "Resolving doc-0s-98-docs.googleusercontent.com (doc-0s-98-docs.googleusercontent.com)... 172.217.214.132, 2607:f8b0:4001:c05::84\n",
            "Connecting to doc-0s-98-docs.googleusercontent.com (doc-0s-98-docs.googleusercontent.com)|172.217.214.132|:443... connected.\n",
            "HTTP request sent, awaiting response... 200 OK\n",
            "Length: 53023716 (51M) [application/octet-stream]\n",
            "Saving to: ‘male_model.pkl’\n",
            "\n",
            "male_model.pkl      100%[===================>]  50.57M   227MB/s    in 0.2s    \n",
            "\n",
            "2021-12-24 23:42:52 (227 MB/s) - ‘male_model.pkl’ saved [53023716/53023716]\n",
            "\n",
            "--2021-12-24 23:42:53--  https://docs.google.com/uc?export=download&id=1qvrXvjCyp5zgFiVlO3LUlKdsEd2MgiUZ\n",
            "Resolving docs.google.com (docs.google.com)... 209.85.147.113, 209.85.147.101, 209.85.147.138, ...\n",
            "Connecting to docs.google.com (docs.google.com)|209.85.147.113|:443... connected.\n",
            "HTTP request sent, awaiting response... 302 Moved Temporarily\n",
            "Location: https://doc-00-98-docs.googleusercontent.com/docs/securesc/ha0ro937gcuc7l7deffksulhg5h7mbp1/dkjd7dlm2bobka7sc0p0gofsgbsiotbg/1640389350000/07264610302122334822/*/1qvrXvjCyp5zgFiVlO3LUlKdsEd2MgiUZ?e=download [following]\n",
            "Warning: wildcards not supported in HTTP.\n",
            "--2021-12-24 23:42:53--  https://doc-00-98-docs.googleusercontent.com/docs/securesc/ha0ro937gcuc7l7deffksulhg5h7mbp1/dkjd7dlm2bobka7sc0p0gofsgbsiotbg/1640389350000/07264610302122334822/*/1qvrXvjCyp5zgFiVlO3LUlKdsEd2MgiUZ?e=download\n",
            "Resolving doc-00-98-docs.googleusercontent.com (doc-00-98-docs.googleusercontent.com)... 172.217.214.132, 2607:f8b0:4001:c05::84\n",
            "Connecting to doc-00-98-docs.googleusercontent.com (doc-00-98-docs.googleusercontent.com)|172.217.214.132|:443... connected.\n",
            "HTTP request sent, awaiting response... 200 OK\n",
            "Length: 53023716 (51M) [application/octet-stream]\n",
            "Saving to: ‘female_model.pkl’\n",
            "\n",
            "female_model.pkl    100%[===================>]  50.57M   132MB/s    in 0.4s    \n",
            "\n",
            "2021-12-24 23:42:54 (132 MB/s) - ‘female_model.pkl’ saved [53023716/53023716]\n",
            "\n",
            "--2021-12-24 23:42:54--  https://docs.google.com/uc?export=download&id=1eOg9JvcKyGwAtVtXI9JPavpIMoH8aOCn\n",
            "Resolving docs.google.com (docs.google.com)... 209.85.147.101, 209.85.147.139, 209.85.147.100, ...\n",
            "Connecting to docs.google.com (docs.google.com)|209.85.147.101|:443... connected.\n",
            "HTTP request sent, awaiting response... 302 Moved Temporarily\n",
            "Location: https://doc-0s-98-docs.googleusercontent.com/docs/securesc/ha0ro937gcuc7l7deffksulhg5h7mbp1/2f787f8mo2l15m55v4e6i6inuehuhum6/1640389350000/07264610302122334822/*/1eOg9JvcKyGwAtVtXI9JPavpIMoH8aOCn?e=download [following]\n",
            "Warning: wildcards not supported in HTTP.\n",
            "--2021-12-24 23:42:55--  https://doc-0s-98-docs.googleusercontent.com/docs/securesc/ha0ro937gcuc7l7deffksulhg5h7mbp1/2f787f8mo2l15m55v4e6i6inuehuhum6/1640389350000/07264610302122334822/*/1eOg9JvcKyGwAtVtXI9JPavpIMoH8aOCn?e=download\n",
            "Resolving doc-0s-98-docs.googleusercontent.com (doc-0s-98-docs.googleusercontent.com)... 172.217.214.132, 2607:f8b0:4001:c05::84\n",
            "Connecting to doc-0s-98-docs.googleusercontent.com (doc-0s-98-docs.googleusercontent.com)|172.217.214.132|:443... connected.\n",
            "HTTP request sent, awaiting response... 200 OK\n",
            "Length: 53023716 (51M) [application/octet-stream]\n",
            "Saving to: ‘generic_model.pkl’\n",
            "\n",
            "generic_model.pkl   100%[===================>]  50.57M   106MB/s    in 0.5s    \n",
            "\n",
            "2021-12-24 23:42:56 (106 MB/s) - ‘generic_model.pkl’ saved [53023716/53023716]\n",
            "\n"
          ]
        }
      ]
    },
    {
      "cell_type": "code",
      "source": [
        "!cd /content/FLAME_PyTorch/ && python main.py"
      ],
      "metadata": {
        "colab": {
          "base_uri": "https://localhost:8080/"
        },
        "id": "7nHY68Zqz_R2",
        "outputId": "9edfff46-9c7f-4e83-d06f-0a9acef45305"
      },
      "execution_count": 19,
      "outputs": [
        {
          "output_type": "stream",
          "name": "stdout",
          "text": [
            "creating the FLAME Decoder\n",
            "/content/FLAME_PyTorch/FLAME.py:147: UserWarning: Creating a tensor from a list of numpy.ndarrays is extremely slow. Please consider converting the list to a single numpy.ndarray with numpy.array() before converting to a tensor. (Triggered internally at  ../torch/csrc/utils/tensor_new.cpp:201.)\n",
            "  dynamic_lmk_bary_coords, dtype=self.dtype)\n",
            "Traceback (most recent call last):\n",
            "  File \"main.py\", line 54, in <module>\n",
            "    vertice, landmark = flamelayer(shape_params, expression_params, pose_params) # For RingNet project\n",
            "  File \"/usr/local/lib/python3.7/dist-packages/torch/nn/modules/module.py\", line 1102, in _call_impl\n",
            "    return forward_call(*input, **kwargs)\n",
            "  File \"/content/FLAME_PyTorch/FLAME.py\", line 224, in forward\n",
            "    self.lbs_weights, dtype=self.dtype)\n",
            "TypeError: lbs() got an unexpected keyword argument 'dtype'\n"
          ]
        }
      ]
    }
  ]
}