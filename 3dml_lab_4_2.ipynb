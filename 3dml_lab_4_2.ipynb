{
  "nbformat": 4,
  "nbformat_minor": 0,
  "metadata": {
    "colab": {
      "name": "3dml_lab_4_2.ipynb",
      "provenance": [],
      "collapsed_sections": [],
      "authorship_tag": "ABX9TyNdN9oVBGBQKsVq0/1CkhO/",
      "include_colab_link": true
    },
    "kernelspec": {
      "name": "python3",
      "display_name": "Python 3"
    },
    "language_info": {
      "name": "python"
    },
    "accelerator": "GPU"
  },
  "cells": [
    {
      "cell_type": "markdown",
      "metadata": {
        "id": "view-in-github",
        "colab_type": "text"
      },
      "source": [
        "<a href=\"https://colab.research.google.com/github/SavchukDI/3d_ml_mai/blob/main/3dml_lab_4_2.ipynb\" target=\"_parent\"><img src=\"https://colab.research.google.com/assets/colab-badge.svg\" alt=\"Open In Colab\"/></a>"
      ]
    },
    {
      "cell_type": "markdown",
      "source": [
        "Human Mesh Recovery"
      ],
      "metadata": {
        "id": "j-9ng0j_oNB9"
      }
    },
    {
      "cell_type": "code",
      "execution_count": 1,
      "metadata": {
        "colab": {
          "base_uri": "https://localhost:8080/"
        },
        "id": "HRMlxC-ZglZL",
        "outputId": "de7aa7eb-e43d-407e-d9bf-3116ed159102"
      },
      "outputs": [
        {
          "output_type": "stream",
          "name": "stdout",
          "text": [
            "--2021-12-24 22:43:00--  https://people.eecs.berkeley.edu/~kanazawa/cachedir/hmr/models.tar.gz\n",
            "Resolving people.eecs.berkeley.edu (people.eecs.berkeley.edu)... 128.32.244.190\n",
            "Connecting to people.eecs.berkeley.edu (people.eecs.berkeley.edu)|128.32.244.190|:443... connected.\n",
            "HTTP request sent, awaiting response... 200 OK\n",
            "Length: 385846404 (368M) [application/x-gzip]\n",
            "Saving to: ‘models.tar.gz’\n",
            "\n",
            "models.tar.gz       100%[===================>] 367.97M  2.36MB/s    in 2m 5s   \n",
            "\n",
            "2021-12-24 22:45:06 (2.94 MB/s) - ‘models.tar.gz’ saved [385846404/385846404]\n",
            "\n"
          ]
        }
      ],
      "source": [
        "!wget https://people.eecs.berkeley.edu/~kanazawa/cachedir/hmr/models.tar.gz && tar -xf models.tar.gz"
      ]
    },
    {
      "cell_type": "code",
      "source": [
        "python -m demo --img_path data/coco1.png\n",
        "python -m demo --img_path data/im1954.jpg"
      ],
      "metadata": {
        "id": "SB-e6tm7nrbW"
      },
      "execution_count": null,
      "outputs": []
    }
  ]
}