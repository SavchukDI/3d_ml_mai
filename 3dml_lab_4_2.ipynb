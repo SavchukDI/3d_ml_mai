{
  "nbformat": 4,
  "nbformat_minor": 0,
  "metadata": {
    "colab": {
      "name": "3dml_lab_4_2.ipynb",
      "provenance": [],
      "collapsed_sections": [],
      "authorship_tag": "ABX9TyONM3YWOozHkA+gwz/vVHqr",
      "include_colab_link": true
    },
    "kernelspec": {
      "name": "python3",
      "display_name": "Python 3"
    },
    "language_info": {
      "name": "python"
    },
    "accelerator": "GPU"
  },
  "cells": [
    {
      "cell_type": "markdown",
      "metadata": {
        "id": "view-in-github",
        "colab_type": "text"
      },
      "source": [
        "<a href=\"https://colab.research.google.com/github/SavchukDI/3d_ml_mai/blob/main/3dml_lab_4_2.ipynb\" target=\"_parent\"><img src=\"https://colab.research.google.com/assets/colab-badge.svg\" alt=\"Open In Colab\"/></a>"
      ]
    },
    {
      "cell_type": "markdown",
      "source": [
        "Human Mesh Recovery"
      ],
      "metadata": {
        "id": "j-9ng0j_oNB9"
      }
    },
    {
      "cell_type": "code",
      "source": [
        "!git clone https://github.com/akanazawa/hmr.git"
      ],
      "metadata": {
        "colab": {
          "base_uri": "https://localhost:8080/"
        },
        "id": "n3XwxqOJsKKz",
        "outputId": "00573dc9-abaf-453b-8873-c985517fc01d"
      },
      "execution_count": 1,
      "outputs": [
        {
          "output_type": "stream",
          "name": "stdout",
          "text": [
            "Cloning into 'hmr'...\n",
            "remote: Enumerating objects: 257, done.\u001b[K\n",
            "remote: Counting objects: 100% (3/3), done.\u001b[K\n",
            "remote: Compressing objects: 100% (3/3), done.\u001b[K\n",
            "remote: Total 257 (delta 0), reused 1 (delta 0), pack-reused 254\u001b[K\n",
            "Receiving objects: 100% (257/257), 3.88 MiB | 18.48 MiB/s, done.\n",
            "Resolving deltas: 100% (110/110), done.\n"
          ]
        }
      ]
    },
    {
      "cell_type": "code",
      "source": [
        "!pip install -r /content/hmr/requirements.txt"
      ],
      "metadata": {
        "colab": {
          "base_uri": "https://localhost:8080/"
        },
        "id": "c4bs57PzseAy",
        "outputId": "e046104c-fd09-444b-c0a5-9c86227a05c6"
      },
      "execution_count": 14,
      "outputs": [
        {
          "output_type": "stream",
          "name": "stdout",
          "text": [
            "Requirement already satisfied: pip>=9.0 in /usr/local/lib/python3.7/dist-packages (from -r /content/hmr/requirements.txt (line 2)) (21.1.3)\n",
            "Requirement already satisfied: scipy in /usr/local/lib/python3.7/dist-packages (from -r /content/hmr/requirements.txt (line 3)) (1.4.1)\n",
            "Requirement already satisfied: numpy in /usr/local/lib/python3.7/dist-packages (from -r /content/hmr/requirements.txt (line 4)) (1.19.5)\n",
            "Collecting opendr\n",
            "  Using cached opendr-0.78.tar.gz (581 kB)\n",
            "Requirement already satisfied: matplotlib in /usr/local/lib/python3.7/dist-packages (from -r /content/hmr/requirements.txt (line 6)) (3.2.2)\n",
            "Requirement already satisfied: scikit-image in /usr/local/lib/python3.7/dist-packages (from -r /content/hmr/requirements.txt (line 7)) (0.18.3)\n",
            "Collecting deepdish>=0.3\n",
            "  Downloading deepdish-0.3.7-py2.py3-none-any.whl (37 kB)\n",
            "Requirement already satisfied: opencv-python in /usr/local/lib/python3.7/dist-packages (from -r /content/hmr/requirements.txt (line 9)) (4.1.2.30)\n",
            "Requirement already satisfied: absl-py in /usr/local/lib/python3.7/dist-packages (from -r /content/hmr/requirements.txt (line 10)) (0.12.0)\n",
            "Collecting ipdb\n",
            "  Downloading ipdb-0.13.9.tar.gz (16 kB)\n",
            "Requirement already satisfied: tables in /usr/local/lib/python3.7/dist-packages (from deepdish>=0.3->-r /content/hmr/requirements.txt (line 8)) (3.4.4)\n",
            "Requirement already satisfied: Cython in /usr/local/lib/python3.7/dist-packages (from opendr->-r /content/hmr/requirements.txt (line 5)) (0.29.24)\n",
            "Requirement already satisfied: chumpy>=0.58 in /usr/local/lib/python3.7/dist-packages (from opendr->-r /content/hmr/requirements.txt (line 5)) (0.70)\n",
            "Requirement already satisfied: six>=1.11.0 in /usr/local/lib/python3.7/dist-packages (from chumpy>=0.58->opendr->-r /content/hmr/requirements.txt (line 5)) (1.15.0)\n",
            "Requirement already satisfied: pyparsing!=2.0.4,!=2.1.2,!=2.1.6,>=2.0.1 in /usr/local/lib/python3.7/dist-packages (from matplotlib->-r /content/hmr/requirements.txt (line 6)) (3.0.6)\n",
            "Requirement already satisfied: kiwisolver>=1.0.1 in /usr/local/lib/python3.7/dist-packages (from matplotlib->-r /content/hmr/requirements.txt (line 6)) (1.3.2)\n",
            "Requirement already satisfied: python-dateutil>=2.1 in /usr/local/lib/python3.7/dist-packages (from matplotlib->-r /content/hmr/requirements.txt (line 6)) (2.8.2)\n",
            "Requirement already satisfied: cycler>=0.10 in /usr/local/lib/python3.7/dist-packages (from matplotlib->-r /content/hmr/requirements.txt (line 6)) (0.11.0)\n",
            "Requirement already satisfied: tifffile>=2019.7.26 in /usr/local/lib/python3.7/dist-packages (from scikit-image->-r /content/hmr/requirements.txt (line 7)) (2021.11.2)\n",
            "Requirement already satisfied: pillow!=7.1.0,!=7.1.1,>=4.3.0 in /usr/local/lib/python3.7/dist-packages (from scikit-image->-r /content/hmr/requirements.txt (line 7)) (7.1.2)\n",
            "Requirement already satisfied: imageio>=2.3.0 in /usr/local/lib/python3.7/dist-packages (from scikit-image->-r /content/hmr/requirements.txt (line 7)) (2.4.1)\n",
            "Requirement already satisfied: PyWavelets>=1.1.1 in /usr/local/lib/python3.7/dist-packages (from scikit-image->-r /content/hmr/requirements.txt (line 7)) (1.2.0)\n",
            "Requirement already satisfied: networkx>=2.0 in /usr/local/lib/python3.7/dist-packages (from scikit-image->-r /content/hmr/requirements.txt (line 7)) (2.6.3)\n",
            "Requirement already satisfied: setuptools in /usr/local/lib/python3.7/dist-packages (from ipdb->-r /content/hmr/requirements.txt (line 11)) (57.4.0)\n",
            "Collecting ipython>=7.17.0\n",
            "  Downloading ipython-7.30.1-py3-none-any.whl (791 kB)\n",
            "\u001b[K     |████████████████████████████████| 791 kB 9.2 MB/s \n",
            "\u001b[?25hRequirement already satisfied: toml>=0.10.2 in /usr/local/lib/python3.7/dist-packages (from ipdb->-r /content/hmr/requirements.txt (line 11)) (0.10.2)\n",
            "Requirement already satisfied: decorator in /usr/local/lib/python3.7/dist-packages (from ipdb->-r /content/hmr/requirements.txt (line 11)) (4.4.2)\n",
            "Collecting prompt-toolkit!=3.0.0,!=3.0.1,<3.1.0,>=2.0.0\n",
            "  Downloading prompt_toolkit-3.0.24-py3-none-any.whl (374 kB)\n",
            "\u001b[K     |████████████████████████████████| 374 kB 46.5 MB/s \n",
            "\u001b[?25hRequirement already satisfied: pygments in /usr/local/lib/python3.7/dist-packages (from ipython>=7.17.0->ipdb->-r /content/hmr/requirements.txt (line 11)) (2.6.1)\n",
            "Requirement already satisfied: matplotlib-inline in /usr/local/lib/python3.7/dist-packages (from ipython>=7.17.0->ipdb->-r /content/hmr/requirements.txt (line 11)) (0.1.3)\n",
            "Requirement already satisfied: backcall in /usr/local/lib/python3.7/dist-packages (from ipython>=7.17.0->ipdb->-r /content/hmr/requirements.txt (line 11)) (0.2.0)\n",
            "Requirement already satisfied: traitlets>=4.2 in /usr/local/lib/python3.7/dist-packages (from ipython>=7.17.0->ipdb->-r /content/hmr/requirements.txt (line 11)) (5.1.1)\n",
            "Requirement already satisfied: pexpect>4.3 in /usr/local/lib/python3.7/dist-packages (from ipython>=7.17.0->ipdb->-r /content/hmr/requirements.txt (line 11)) (4.8.0)\n",
            "Requirement already satisfied: jedi>=0.16 in /usr/local/lib/python3.7/dist-packages (from ipython>=7.17.0->ipdb->-r /content/hmr/requirements.txt (line 11)) (0.18.1)\n",
            "Requirement already satisfied: pickleshare in /usr/local/lib/python3.7/dist-packages (from ipython>=7.17.0->ipdb->-r /content/hmr/requirements.txt (line 11)) (0.7.5)\n",
            "Requirement already satisfied: parso<0.9.0,>=0.8.0 in /usr/local/lib/python3.7/dist-packages (from jedi>=0.16->ipython>=7.17.0->ipdb->-r /content/hmr/requirements.txt (line 11)) (0.8.3)\n",
            "Requirement already satisfied: ptyprocess>=0.5 in /usr/local/lib/python3.7/dist-packages (from pexpect>4.3->ipython>=7.17.0->ipdb->-r /content/hmr/requirements.txt (line 11)) (0.7.0)\n",
            "Requirement already satisfied: wcwidth in /usr/local/lib/python3.7/dist-packages (from prompt-toolkit!=3.0.0,!=3.0.1,<3.1.0,>=2.0.0->ipython>=7.17.0->ipdb->-r /content/hmr/requirements.txt (line 11)) (0.2.5)\n",
            "Requirement already satisfied: numexpr>=2.5.2 in /usr/local/lib/python3.7/dist-packages (from tables->deepdish>=0.3->-r /content/hmr/requirements.txt (line 8)) (2.7.3)\n",
            "Building wheels for collected packages: opendr, ipdb\n",
            "  Building wheel for opendr (setup.py) ... \u001b[?25lerror\n",
            "\u001b[31m  ERROR: Failed building wheel for opendr\u001b[0m\n",
            "\u001b[?25h  Running setup.py clean for opendr\n",
            "  Building wheel for ipdb (setup.py) ... \u001b[?25l\u001b[?25hdone\n",
            "  Created wheel for ipdb: filename=ipdb-0.13.9-py3-none-any.whl size=11648 sha256=e9e0647832e0f2d3d694bf17f2023029a95a491eb24988e4896d8b06e5580d48\n",
            "  Stored in directory: /root/.cache/pip/wheels/65/cd/cc/aaf92acae337a28fdd2aa4d632196a59745c8c39f76eaeed01\n",
            "Successfully built ipdb\n",
            "Failed to build opendr\n",
            "Installing collected packages: prompt-toolkit, ipython, opendr, ipdb, deepdish\n",
            "  Attempting uninstall: prompt-toolkit\n",
            "    Found existing installation: prompt-toolkit 1.0.18\n",
            "    Uninstalling prompt-toolkit-1.0.18:\n",
            "      Successfully uninstalled prompt-toolkit-1.0.18\n",
            "  Attempting uninstall: ipython\n",
            "    Found existing installation: ipython 5.5.0\n",
            "    Uninstalling ipython-5.5.0:\n",
            "      Successfully uninstalled ipython-5.5.0\n",
            "    Running setup.py install for opendr ... \u001b[?25l\u001b[?25herror\n",
            "\u001b[31mERROR: Command errored out with exit status 1: /usr/bin/python3 -u -c 'import io, os, sys, setuptools, tokenize; sys.argv[0] = '\"'\"'/tmp/pip-install-j2cc7v7e/opendr_f7a10e53687442e29104445ae40f2aac/setup.py'\"'\"'; __file__='\"'\"'/tmp/pip-install-j2cc7v7e/opendr_f7a10e53687442e29104445ae40f2aac/setup.py'\"'\"';f = getattr(tokenize, '\"'\"'open'\"'\"', open)(__file__) if os.path.exists(__file__) else io.StringIO('\"'\"'from setuptools import setup; setup()'\"'\"');code = f.read().replace('\"'\"'\\r\\n'\"'\"', '\"'\"'\\n'\"'\"');f.close();exec(compile(code, __file__, '\"'\"'exec'\"'\"'))' install --record /tmp/pip-record-1djf0gus/install-record.txt --single-version-externally-managed --compile --install-headers /usr/local/include/python3.7/opendr Check the logs for full command output.\u001b[0m\n"
          ]
        }
      ]
    },
    {
      "cell_type": "code",
      "execution_count": 1,
      "metadata": {
        "colab": {
          "base_uri": "https://localhost:8080/"
        },
        "id": "HRMlxC-ZglZL",
        "outputId": "de7aa7eb-e43d-407e-d9bf-3116ed159102"
      },
      "outputs": [
        {
          "output_type": "stream",
          "name": "stdout",
          "text": [
            "--2021-12-24 22:43:00--  https://people.eecs.berkeley.edu/~kanazawa/cachedir/hmr/models.tar.gz\n",
            "Resolving people.eecs.berkeley.edu (people.eecs.berkeley.edu)... 128.32.244.190\n",
            "Connecting to people.eecs.berkeley.edu (people.eecs.berkeley.edu)|128.32.244.190|:443... connected.\n",
            "HTTP request sent, awaiting response... 200 OK\n",
            "Length: 385846404 (368M) [application/x-gzip]\n",
            "Saving to: ‘models.tar.gz’\n",
            "\n",
            "models.tar.gz       100%[===================>] 367.97M  2.36MB/s    in 2m 5s   \n",
            "\n",
            "2021-12-24 22:45:06 (2.94 MB/s) - ‘models.tar.gz’ saved [385846404/385846404]\n",
            "\n"
          ]
        }
      ],
      "source": [
        "!wget https://people.eecs.berkeley.edu/~kanazawa/cachedir/hmr/models.tar.gz && tar -xf models.tar.gz"
      ]
    },
    {
      "cell_type": "code",
      "source": [
        "!cd /content/hmr/ && python -m demo --img_path data/coco1.png"
      ],
      "metadata": {
        "colab": {
          "base_uri": "https://localhost:8080/"
        },
        "id": "9fxEVrr9s1_l",
        "outputId": "ec539720-a6a6-406a-8d7a-f511148bdfa0"
      },
      "execution_count": 15,
      "outputs": [
        {
          "output_type": "stream",
          "name": "stdout",
          "text": [
            "Traceback (most recent call last):\n",
            "  File \"/usr/lib/python3.7/runpy.py\", line 193, in _run_module_as_main\n",
            "    \"__main__\", mod_spec)\n",
            "  File \"/usr/lib/python3.7/runpy.py\", line 85, in _run_code\n",
            "    exec(code, run_globals)\n",
            "  File \"/content/hmr/demo.py\", line 29, in <module>\n",
            "    from src.util import renderer as vis_util\n",
            "  File \"/content/hmr/src/util/renderer.py\", line 12, in <module>\n",
            "    from opendr.camera import ProjectPoints\n",
            "ModuleNotFoundError: No module named 'opendr'\n"
          ]
        }
      ]
    }
  ]
}